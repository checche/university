{
 "cells": [
  {
   "cell_type": "code",
   "execution_count": 62,
   "metadata": {},
   "outputs": [
    {
     "name": "stdout",
     "output_type": "stream",
     "text": [
      "   PDBID  Bf_protein  Bf_waters  Bf_ligand\n",
      "0   3LXN   19.263524  21.285909  28.421538\n",
      "1   3LXP   19.752938  34.739368  22.536923\n",
      "2   3NYX   30.461047  22.274286  20.869024\n",
      "3   3NZ0   26.595353  29.820751  17.924348\n",
      "4   3ZON   25.379496  27.537561  18.320000\n",
      "5   4E1Z   47.126519  41.334146  34.373824\n",
      "6   4E20   48.004676  47.940421  35.392593\n",
      "7   4GFO   48.281508  42.182051  64.332619\n",
      "8   4GIH   44.055532  43.383529  35.382609\n",
      "9   4GII   52.950350  44.655385  46.874400\n",
      "10  4GJ2   42.130938  37.401809  40.004231\n",
      "11  4GJ3   41.232762  35.112879  35.225357\n",
      "12  4GVJ   45.099150  41.474607  33.745455\n",
      "13  4OLI   59.718621  50.743750  64.221364\n",
      "14  4PY1   44.805945  44.653136  50.383810\n",
      "15  4WOV   30.636511  39.928444  43.264309\n",
      "16  5C01   29.295238  32.166898  26.401026\n",
      "17  5C03   25.827630  32.629295  27.773983\n",
      "18  5F1Z   32.987997  30.204710  30.246154\n",
      "19  5F20   56.528855  61.036774  67.564167\n",
      "20  5TKD   28.708724  35.686984  24.643711\n",
      "21  5WAL   37.166332  32.424891  24.202609\n"
     ]
    }
   ],
   "source": [
    "from __future__ import print_function\n",
    "import sys\n",
    "import glob\n",
    "import pandas as pd\n",
    "import numpy as np\n",
    "\n",
    "#平均値計算\n",
    "def output_averaged_B_factor(sum_Bf, n, parts_for_Bf):\n",
    "    if n != 0:\n",
    "        ave_Bf = sum_Bf / n\n",
    "#        print('averaged B factor for %s = %f' %(parts_for_Bf, ave_Bf))\n",
    "        return ave_Bf\n",
    "\n",
    "#ファイル名を入力して温度因子の平均値をデータフレーム化\n",
    "def calc_averaged_B_factors(pdb_name):\n",
    "    fl = open(pdb_name)\n",
    "    sum_protein_Bf = 0.\n",
    "    sum_WAT_Bf = 0.\n",
    "    sum_HETATM_Bf = 0.\n",
    "    n_protein = 0\n",
    "    n_WAT= 0\n",
    "    n_HETATM = 0\n",
    "    for line in fl:\n",
    "        if line.startswith('ATOM') or line.startswith('HETATM'):\n",
    "            residue = line[17:20]\n",
    "            Bf = float(line[61:66])\n",
    "\n",
    "            if residue in ['WAT','HOH']:\n",
    "                sum_WAT_Bf += Bf\n",
    "                n_WAT += 1\n",
    "            elif line.startswith('ATOM'):\n",
    "                sum_protein_Bf += Bf\n",
    "                n_protein += 1\n",
    "                 \n",
    "            else:\n",
    "                sum_HETATM_Bf += float(line[61:66])\n",
    "                n_HETATM += 1\n",
    "    \n",
    "    ls = []\n",
    "    ls.append(pdb_name[-8:-4])\n",
    "    ls.append(output_averaged_B_factor(sum_protein_Bf, n_protein, 'protein'))\n",
    "    ls.append(output_averaged_B_factor(sum_WAT_Bf, n_WAT, 'waters'))\n",
    "    ls.append(output_averaged_B_factor(sum_HETATM_Bf, n_HETATM, 'ligand (HETATMs)'))\n",
    "    \n",
    "    df2 = pd.DataFrame([ls], columns=['PDBID', 'Bf_protein', 'Bf_waters', 'Bf_ligand'])\n",
    "    \n",
    "    return df2\n",
    "\n",
    "#データフレーム作成\n",
    "df = pd.DataFrame(columns=['PDBID', 'Bf_protein', 'Bf_waters', 'Bf_ligand'])\n",
    "gl = glob.glob('../TYK2/*.pdb')\n",
    "for p in gl:\n",
    "    pdb_name = p\n",
    "    df = df.append(calc_averaged_B_factors(pdb_name), ignore_index=True)\n",
    "print(df)\n",
    "\n",
    "#csvに出力\n",
    "df.to_csv('../TYK2/TYK2_B_factor.csv')"
   ]
  },
  {
   "cell_type": "code",
   "execution_count": null,
   "metadata": {},
   "outputs": [],
   "source": []
  }
 ],
 "metadata": {
  "kernelspec": {
   "display_name": "Python 3",
   "language": "python",
   "name": "python3"
  },
  "language_info": {
   "codemirror_mode": {
    "name": "ipython",
    "version": 3
   },
   "file_extension": ".py",
   "mimetype": "text/x-python",
   "name": "python",
   "nbconvert_exporter": "python",
   "pygments_lexer": "ipython3",
   "version": "3.6.5"
  }
 },
 "nbformat": 4,
 "nbformat_minor": 2
}
