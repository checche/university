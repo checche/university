{
 "cells": [
  {
   "cell_type": "code",
   "execution_count": 14,
   "metadata": {},
   "outputs": [
    {
     "name": "stdout",
     "output_type": "stream",
     "text": [
      "finish\n"
     ]
    }
   ],
   "source": [
    "from __future__ import print_function\n",
    "import sys\n",
    "import glob\n",
    "import pandas as pd\n",
    "import numpy as np\n",
    "\n",
    "#平均値計算\n",
    "def output_averaged_B_factor(sum_Bf, n, parts_for_Bf):\n",
    "    if n != 0:\n",
    "        ave_Bf = sum_Bf / n\n",
    "#        print('averaged B factor for %s = %f' %(parts_for_Bf, ave_Bf))\n",
    "        return ave_Bf\n",
    "\n",
    "#ファイル名を入力して温度因子の平均値をデータフレーム化\n",
    "def calc_averaged_B_factors(pdb_name):\n",
    "    fl = open(pdb_name)\n",
    "    sum_protein_Bf = 0.\n",
    "    sum_WAT_Bf = 0.\n",
    "    sum_HETATM_Bf = 0.\n",
    "    n_protein = 0\n",
    "    n_WAT= 0\n",
    "    n_HETATM = 0\n",
    "    for line in fl:\n",
    "        if line.startswith('ATOM') or line.startswith('HETATM'):\n",
    "            residue = line[17:20]\n",
    "            Bf = float(line[61:66])\n",
    "\n",
    "            if residue in ['WAT','HOH']:\n",
    "                sum_WAT_Bf += Bf\n",
    "                n_WAT += 1\n",
    "            elif line.startswith('ATOM'):\n",
    "                sum_protein_Bf += Bf\n",
    "                n_protein += 1\n",
    "                 \n",
    "            else:\n",
    "                sum_HETATM_Bf += float(line[61:66])\n",
    "                n_HETATM += 1\n",
    "    \n",
    "    ls = []\n",
    "    ls.append(pdb_name[-8:-4])\n",
    "    ls.append(output_averaged_B_factor(sum_protein_Bf, n_protein, 'protein'))\n",
    "    ls.append(output_averaged_B_factor(sum_WAT_Bf, n_WAT, 'waters'))\n",
    "    ls.append(output_averaged_B_factor(sum_HETATM_Bf, n_HETATM, 'ligand (HETATMs)'))\n",
    "    \n",
    "    df2 = pd.DataFrame([ls], columns=['PDBID', 'Bf_protein', 'Bf_waters', 'Bf_ligand'])\n",
    "    \n",
    "    return df2\n",
    "\n",
    "#PDBID_rw.pdbを作成\n",
    "def remove_waters(pdb_name, Bf_threshold, del_non_atom_lines):\n",
    "    fl = open(pdb_name)\n",
    "    out_name = pdb_name[:-4] + '_rw.pdb'\n",
    "    out = open( out_name, 'a')\n",
    "    for line in fl:\n",
    "        if line.startswith('ATOM') or line.startswith('HETATM'):\n",
    "            residue = line[17:20]\n",
    "            Bf = float(line[61:66])\n",
    "            if residue in ['WAT','HOH'] and Bf > Bf_threshold:\n",
    "                continue\n",
    "            out.write(line)        \n",
    "        elif not del_non_atom_lines:\n",
    "            out.write(line)\n",
    "        \n",
    "#データフレーム作成\n",
    "df = pd.DataFrame(columns=['PDBID', 'Bf_protein', 'Bf_waters', 'Bf_ligand'])\n",
    "gl = glob.glob('../JAK3/*.pdb')\n",
    "for p in gl:\n",
    "    pdb_name = p\n",
    "    df = df.append(calc_averaged_B_factors(pdb_name), ignore_index=True)\n",
    "\n",
    "#RemoveWaterのPDBをつくる\n",
    "for index, row in df.iterrows():\n",
    "    pdb_name = '../JAK3/' + row['PDBID'] + '.pdb'\n",
    "    Bf_threshold = row['Bf_protein']\n",
    "    del_non_atom_lines = False\n",
    "    remove_waters(pdb_name, Bf_threshold, del_non_atom_lines)\n",
    "print('finish')"
   ]
  },
  {
   "cell_type": "code",
   "execution_count": null,
   "metadata": {},
   "outputs": [],
   "source": []
  }
 ],
 "metadata": {
  "kernelspec": {
   "display_name": "Python 3",
   "language": "python",
   "name": "python3"
  },
  "language_info": {
   "codemirror_mode": {
    "name": "ipython",
    "version": 3
   },
   "file_extension": ".py",
   "mimetype": "text/x-python",
   "name": "python",
   "nbconvert_exporter": "python",
   "pygments_lexer": "ipython3",
   "version": "3.6.5"
  }
 },
 "nbformat": 4,
 "nbformat_minor": 2
}
