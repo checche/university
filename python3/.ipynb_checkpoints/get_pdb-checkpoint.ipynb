{
 "cells": [
  {
   "cell_type": "code",
   "execution_count": null,
   "metadata": {},
   "outputs": [
    {
     "name": "stdout",
     "output_type": "stream",
     "text": [
      "['3LXN', '3LXP', '3NYX', '3NZ0', '3ZON', '4E1Z', '4E20', '4GFO', '4GIH', '4GII', '4GJ2', '4GJ3', '4GVJ', '4OLI', '4PO6', '4PY1', '4WOV', '5C01', '5C03', '5F1Z', '5F20', '5TKD', '5WAL']\n",
      "start reading 3LXN\n",
      "start downloading 3LXN\n",
      "success\n",
      "start reading 3LXP\n",
      "start downloading 3LXP\n",
      "success\n",
      "start reading 3NYX\n",
      "start downloading 3NYX\n",
      "success\n",
      "start reading 3NZ0\n"
     ]
    }
   ],
   "source": [
    "##download pdbfiles\n",
    "import urllib.request, sys\n",
    "import xml.etree.ElementTree as etree\n",
    "\n",
    "def download_pdb(pdbid):\n",
    "    url = 'https://files.rcsb.org/download/%s.pdb'%pdbid\n",
    "    savename = '%s.pdb'%pdbid\n",
    "    print(\"start reading \"+pdbid)\n",
    "    nem = urllib.request.urlopen(url).read()\n",
    "    with open(savename, mode=\"wb\") as f:\n",
    "        print(\"start downloading \"+pdbid)\n",
    "        f.write(nem)\n",
    "        print(\"success\")\n",
    "\n",
    "pdbidtxt = open(\"TYK2pdbid.txt\")\n",
    "pdbids = pdbidtxt.read()\n",
    "pdbidtxt.close()\n",
    "\n",
    "plist = pdbids.split('\\n')\n",
    "print(plist)\n",
    "\n",
    "for pid in plist:  \n",
    "    download_pdb(pid)\n",
    "        \n",
    "print(\"finish\")"
   ]
  },
  {
   "cell_type": "code",
   "execution_count": null,
   "metadata": {},
   "outputs": [],
   "source": []
  },
  {
   "cell_type": "code",
   "execution_count": null,
   "metadata": {},
   "outputs": [],
   "source": []
  }
 ],
 "metadata": {
  "kernelspec": {
   "display_name": "Python 3",
   "language": "python",
   "name": "python3"
  },
  "language_info": {
   "codemirror_mode": {
    "name": "ipython",
    "version": 3
   },
   "file_extension": ".py",
   "mimetype": "text/x-python",
   "name": "python",
   "nbconvert_exporter": "python",
   "pygments_lexer": "ipython3",
   "version": "3.6.5"
  }
 },
 "nbformat": 4,
 "nbformat_minor": 2
}
